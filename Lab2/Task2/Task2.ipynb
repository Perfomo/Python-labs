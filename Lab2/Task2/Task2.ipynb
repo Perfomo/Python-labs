{
 "cells": [
  {
   "cell_type": "code",
   "execution_count": 45,
   "metadata": {},
   "outputs": [],
   "source": [
    "class OpenAddressingHashTable:\n",
    "    def __init__(self, size) -> None:\n",
    "        self.size = size\n",
    "        self.__iter = 0\n",
    "        self.keys = []\n",
    "        self.var = []\n",
    "\n",
    "    def hash_function(self, key) -> int:\n",
    "        return key % self.size\n",
    "\n",
    "    def insert(self, key, value) -> None:\n",
    "        if self.__iter < self.size:\n",
    "            myhash = self.hash_function(key)\n",
    "            self.keys.append(myhash)\n",
    "            self.var.append(value)\n",
    "            self.__iter += 1\n",
    "        else:\n",
    "            print(\"Not enough space...\")\n",
    "    \n",
    "    def get(self, key) -> list:\n",
    "        res = []\n",
    "        hash_key = self.hash_function(key)\n",
    "        for i, el in enumerate(self.keys):\n",
    "            if hash_key == el:\n",
    "                res.append(self.var[i])\n",
    "        return res\n",
    "    \n",
    "    def remove(self, key) -> None:\n",
    "        hash_key = self.hash_function(key)\n",
    "        am = 0\n",
    "        size = len(self.keys)\n",
    "        i = 0\n",
    "        while i != size:\n",
    "            if hash_key == self.keys[i]:\n",
    "                self.keys.pop(i)\n",
    "                self.var.pop(i)\n",
    "                size -= 1\n",
    "                am += 1\n",
    "            else:\n",
    "                i += 1\n",
    "        self.__iter -= am\n",
    "        print(f\"Deleted: {am}\")\n",
    "\n",
    "    def print_table(self) -> None:\n",
    "        for i in range(self.__iter):\n",
    "            print(f\"# {i} {self.keys[i]} ---> {self.var[i]}\")"
   ]
  },
  {
   "cell_type": "code",
   "execution_count": 47,
   "metadata": {},
   "outputs": [
    {
     "name": "stdout",
     "output_type": "stream",
     "text": [
      "# 0 4 ---> qtrtr\n",
      "# 1 3 ---> fd\n",
      "# 2 4 ---> qq\n",
      "# 3 4 ---> q\n",
      "# 4 3 ---> qa\n",
      "# 5 4 ---> qtr\n",
      "['qtrtr', 'qq', 'q', 'qtr']\n",
      "Deleted: 4\n",
      "# 0 3 ---> fd\n",
      "# 1 3 ---> qa\n",
      "[]\n"
     ]
    }
   ],
   "source": [
    "table = OpenAddressingHashTable(6)\n",
    "table.insert(10, \"qtrtr\")\n",
    "table.insert(3, \"fd\")\n",
    "table.insert(10, \"qq\")\n",
    "table.insert(10, \"q\")\n",
    "table.insert(3, \"qa\")\n",
    "table.insert(10, \"qtr\")\n",
    "table.print_table()\n",
    "print(table.get(10))\n",
    "table.remove(10)\n",
    "table.print_table()\n",
    "print(table.get(10))"
   ]
  }
 ],
 "metadata": {
  "kernelspec": {
   "display_name": "Python 3",
   "language": "python",
   "name": "python3"
  },
  "language_info": {
   "codemirror_mode": {
    "name": "ipython",
    "version": 3
   },
   "file_extension": ".py",
   "mimetype": "text/x-python",
   "name": "python",
   "nbconvert_exporter": "python",
   "pygments_lexer": "ipython3",
   "version": "3.11.3"
  },
  "orig_nbformat": 4
 },
 "nbformat": 4,
 "nbformat_minor": 2
}
