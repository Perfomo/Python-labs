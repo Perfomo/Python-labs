{
 "cells": [
  {
   "cell_type": "code",
   "execution_count": 1,
   "metadata": {},
   "outputs": [
    {
     "name": "stdout",
     "output_type": "stream",
     "text": [
      "New seq: dv\n"
     ]
    }
   ],
   "source": [
    "\"\"\" #1 \"\"\"\n",
    "seq = input(\"Input string: \")\n",
    "res = \"\"\n",
    "for ch in seq:\n",
    "    if not ch.isdigit():\n",
    "        res += ch\n",
    "print(f\"New seq: {res}\")\n"
   ]
  },
  {
   "cell_type": "code",
   "execution_count": 6,
   "metadata": {},
   "outputs": [
    {
     "name": "stdout",
     "output_type": "stream",
     "text": [
      "(8, 6, 1)\n",
      "(8, 8, 6)\n",
      "(8, 8, 8)\n",
      "(8, 6, 2)\n"
     ]
    }
   ],
   "source": [
    "\"\"\" 2 \"\"\"\n",
    "def mySort(x: float, y: float, z: float) -> tuple:\n",
    "    l = [x, y, z]\n",
    "    for i in range(2):\n",
    "        for j in range(1, 3):\n",
    "            if l[j] > l[j-1]:\n",
    "                l[j-1], l[j] = l[j], l[j-1]\n",
    "    return tuple(l)\n",
    "\n",
    "print(mySort(1, 6, 8))\n",
    "print(mySort(8, 6, 8))\n",
    "print(mySort(8, 8, 8))\n",
    "print(mySort(8, 6, 2))    "
   ]
  },
  {
   "cell_type": "code",
   "execution_count": 5,
   "metadata": {},
   "outputs": [
    {
     "name": "stdout",
     "output_type": "stream",
     "text": [
      "False\n",
      "Is number 95 odd? --- True\n",
      "Is number 82 odd? --- False\n",
      "Is number 94 odd? --- False\n",
      "Is number 74 odd? --- False\n",
      "Is number 60 odd? --- False\n"
     ]
    }
   ],
   "source": [
    "\"\"\" 3 \"\"\"\n",
    "from random import randint\n",
    "def IsOddNumber(x: int) -> bool:\n",
    "    return bool(x % 2)\n",
    "\n",
    "for i in range(5):\n",
    "    num = randint(0, 100)\n",
    "    print(f\"Is number {num} odd? ---> {IsOddNumber(num)}\")"
   ]
  },
  {
   "cell_type": "code",
   "execution_count": null,
   "metadata": {},
   "outputs": [],
   "source": [
    "\"\"\" 4 \"\"\"\n"
   ]
  }
 ],
 "metadata": {
  "kernelspec": {
   "display_name": "base",
   "language": "python",
   "name": "python3"
  },
  "language_info": {
   "codemirror_mode": {
    "name": "ipython",
    "version": 3
   },
   "file_extension": ".py",
   "mimetype": "text/x-python",
   "name": "python",
   "nbconvert_exporter": "python",
   "pygments_lexer": "ipython3",
   "version": "3.11.3"
  },
  "orig_nbformat": 4
 },
 "nbformat": 4,
 "nbformat_minor": 2
}
