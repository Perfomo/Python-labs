{
 "cells": [
  {
   "cell_type": "markdown",
   "metadata": {},
   "source": [
    "# Lab 1\n"
   ]
  },
  {
   "cell_type": "markdown",
   "metadata": {},
   "source": [
    "### Task 1"
   ]
  },
  {
   "cell_type": "code",
   "execution_count": 11,
   "metadata": {},
   "outputs": [
    {
     "name": "stdout",
     "output_type": "stream",
     "text": [
      "Old seq ---> er12er\n",
      "New seq ---> erer\n"
     ]
    }
   ],
   "source": [
    "seq = input(\"Input string: \")\n",
    "print(f\"Old seq ---> {seq}\")\n",
    "res = \"\"\n",
    "for ch in seq:\n",
    "    if not ch.isdigit():\n",
    "        res += ch\n",
    "print(f\"New seq ---> {res}\")\n"
   ]
  },
  {
   "cell_type": "markdown",
   "metadata": {},
   "source": [
    "### Task 2"
   ]
  },
  {
   "cell_type": "code",
   "execution_count": 8,
   "metadata": {},
   "outputs": [
    {
     "name": "stdout",
     "output_type": "stream",
     "text": [
      "(8, 6, 1)\n",
      "(8, 6, 1)\n",
      "(8, 8, 6)\n",
      "(8, 8, 8)\n",
      "(8, 6, 2)\n"
     ]
    }
   ],
   "source": [
    "def mySort(x: float, y: float, z: float) -> tuple:\n",
    "    l = [x, y, z]\n",
    "    for i in range(2):\n",
    "        for j in range(1, 3):\n",
    "            if l[j] > l[j-1]:\n",
    "                l[j-1], l[j] = l[j], l[j-1]\n",
    "    return tuple(l)\n",
    "\n",
    "print(mySort(1, 6, 8))\n",
    "print(mySort(6, 1, 8))\n",
    "print(mySort(8, 6, 8))\n",
    "print(mySort(8, 8, 8))\n",
    "print(mySort(8, 6, 2))    "
   ]
  },
  {
   "cell_type": "markdown",
   "metadata": {},
   "source": [
    "### Task 3"
   ]
  },
  {
   "cell_type": "code",
   "execution_count": 9,
   "metadata": {},
   "outputs": [
    {
     "name": "stdout",
     "output_type": "stream",
     "text": [
      "Is number 53 odd? ---> True\n",
      "Is number 46 odd? ---> False\n",
      "Is number 55 odd? ---> True\n",
      "Is number 64 odd? ---> False\n",
      "Is number 27 odd? ---> True\n"
     ]
    }
   ],
   "source": [
    "from random import randint\n",
    "\n",
    "def IsOddNumber(x: int) -> bool:\n",
    "    return bool(x % 2)\n",
    "\n",
    "for i in range(5):\n",
    "    num = randint(0, 100)\n",
    "    print(f\"Is number {num} odd? ---> {IsOddNumber(num)}\")"
   ]
  },
  {
   "cell_type": "markdown",
   "metadata": {},
   "source": [
    "### Task 4"
   ]
  },
  {
   "cell_type": "code",
   "execution_count": 2,
   "metadata": {},
   "outputs": [],
   "source": [
    "class FruitGarden:\n",
    "    def __init__(self, area: float, tree_am: int, fruit: str) -> None:\n",
    "        \"\"\" Creating instanses \"\"\"\n",
    "        self.area = area\n",
    "        self.tree_am = tree_am\n",
    "        self.fruit = fruit\n",
    "\n",
    "    def addTree(self) -> None:\n",
    "        \"\"\" Add one tree \"\"\"\n",
    "        self.tree_am += 1\n",
    "    \n",
    "    def removeTree(self) -> None:\n",
    "        \"\"\" Remove one tree if amount of trees more than zero \"\"\"\n",
    "        if self.tree_am > 0:\n",
    "            self.tree_am -= 1\n",
    "    \n",
    "    def printInfo(self) -> None:\n",
    "        \"\"\" Print info about instance of fruit garden \"\"\"\n",
    "        print(f\"\\nTotal area -> {self.area}\", f\"Tree amount -> {self.tree_am}\", f\"Fruit type -> {self.fruit}\", sep=\"\\n\")"
   ]
  },
  {
   "cell_type": "code",
   "execution_count": 7,
   "metadata": {},
   "outputs": [
    {
     "name": "stdout",
     "output_type": "stream",
     "text": [
      "\n",
      "Total area -> 10.4\n",
      "Tree amount -> 5\n",
      "Fruit type -> Apple\n",
      "\n",
      "Total area -> 10.4\n",
      "Tree amount -> 6\n",
      "Fruit type -> Apple\n",
      "---------------\n",
      "\n",
      "Total area -> 2\n",
      "Tree amount -> 0\n",
      "Fruit type -> Apricot\n",
      "\n",
      "Total area -> 2\n",
      "Tree amount -> 1\n",
      "Fruit type -> Apricot\n"
     ]
    }
   ],
   "source": [
    "g1 = FruitGarden(10.4, 5, \"Apple\")\n",
    "g2 = FruitGarden(2, 0, \"Apricot\")\n",
    "\n",
    "g1.printInfo()\n",
    "g1.addTree()\n",
    "g1.addTree()\n",
    "g1.removeTree()\n",
    "g1.printInfo()\n",
    "\n",
    "print(\"---------------\")\n",
    "\n",
    "g2.printInfo()\n",
    "g2.removeTree()\n",
    "g2.addTree()\n",
    "g2.printInfo()"
   ]
  },
  {
   "cell_type": "markdown",
   "metadata": {},
   "source": [
    "### Task 5"
   ]
  },
  {
   "cell_type": "code",
   "execution_count": 21,
   "metadata": {},
   "outputs": [],
   "source": [
    "class AppleGarden(FruitGarden):\n",
    "    def __init__(self, area: float, tree_am: int) -> None:\n",
    "        super().__init__(area, tree_am, \"Apple\")\n",
    "\n",
    "    def printType(self) -> None:\n",
    "        print(\"\\nThis is apple garden!\")\n"
   ]
  },
  {
   "cell_type": "code",
   "execution_count": 23,
   "metadata": {},
   "outputs": [],
   "source": [
    "class PearGarden(FruitGarden):\n",
    "    def __init__(self, area: float, tree_am: int) -> None:\n",
    "        super().__init__(area, tree_am, \"Pear\")\n",
    "\n",
    "    def printType(self) -> None:\n",
    "        print(\"\\nThis is pear garden!\")"
   ]
  },
  {
   "cell_type": "code",
   "execution_count": 25,
   "metadata": {},
   "outputs": [
    {
     "name": "stdout",
     "output_type": "stream",
     "text": [
      "\n",
      "Total area -> 2\n",
      "Tree amount -> 5\n",
      "Fruit type -> Apple\n",
      "\n",
      "Total area -> 2\n",
      "Tree amount -> 5\n",
      "Fruit type -> Pear\n",
      "\n",
      "This is apple garden!\n",
      "\n",
      "This is pear garden!\n",
      "\n",
      "Total area -> 2\n",
      "Tree amount -> 6\n",
      "Fruit type -> Apple\n",
      "\n",
      "Total area -> 2\n",
      "Tree amount -> 4\n",
      "Fruit type -> Pear\n"
     ]
    }
   ],
   "source": [
    "a1 = AppleGarden(2, 5)\n",
    "p1= PearGarden(2, 5)\n",
    "\n",
    "a1.printInfo()\n",
    "p1.printInfo()\n",
    "\n",
    "a1.printType()\n",
    "p1.printType()\n",
    "\n",
    "a1.addTree()\n",
    "p1.removeTree()\n",
    "\n",
    "a1.printInfo()\n",
    "p1.printInfo()\n"
   ]
  }
 ],
 "metadata": {
  "kernelspec": {
   "display_name": "base",
   "language": "python",
   "name": "python3"
  },
  "language_info": {
   "codemirror_mode": {
    "name": "ipython",
    "version": 3
   },
   "file_extension": ".py",
   "mimetype": "text/x-python",
   "name": "python",
   "nbconvert_exporter": "python",
   "pygments_lexer": "ipython3",
   "version": "3.11.3"
  },
  "orig_nbformat": 4
 },
 "nbformat": 4,
 "nbformat_minor": 2
}
